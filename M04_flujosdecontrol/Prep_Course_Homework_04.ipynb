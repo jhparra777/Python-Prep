{
 "cells": [
  {
   "attachments": {},
   "cell_type": "markdown",
   "metadata": {},
   "source": [
    "## Flujos de Control"
   ]
  },
  {
   "attachments": {},
   "cell_type": "markdown",
   "metadata": {},
   "source": [
    "1) Crear una variable que contenga un elemento del conjunto de números enteros y luego imprimir por pantalla si es mayor o menor a cero"
   ]
  },
  {
   "cell_type": "code",
   "execution_count": null,
   "metadata": {},
   "outputs": [],
   "source": [
    "numero = -10\n",
    "if numero > 0 :\n",
    "    print('Es mayor a Cero')\n",
    "else :\n",
    "    print('No es mayor a Cero')"
   ]
  },
  {
   "attachments": {},
   "cell_type": "markdown",
   "metadata": {},
   "source": [
    "2) Crear dos variables y un condicional que informe si son del mismo tipo de dato"
   ]
  },
  {
   "cell_type": "code",
   "execution_count": null,
   "metadata": {},
   "outputs": [],
   "source": [
    "var1 = 'a'\n",
    "var2 = '2'\n",
    "if type(var1)==type(var2):\n",
    "    print('Son del mismo tipo')\n",
    "else :\n",
    "    print('No son del mismo tipo')"
   ]
  },
  {
   "attachments": {},
   "cell_type": "markdown",
   "metadata": {},
   "source": [
    "3) Para los valores enteros del 1 al 20, imprimir por pantalla si es par o impar"
   ]
  },
  {
   "cell_type": "code",
   "execution_count": null,
   "metadata": {},
   "outputs": [],
   "source": [
    "for num in range(1,21):\n",
    "    if num % 2 == 0:\n",
    "        print(num)\n"
   ]
  },
  {
   "attachments": {},
   "cell_type": "markdown",
   "metadata": {},
   "source": [
    "4) En un ciclo for mostrar para los valores entre 0 y 5 el resultado de elevarlo a la potencia igual a 3"
   ]
  },
  {
   "cell_type": "code",
   "execution_count": null,
   "metadata": {},
   "outputs": [],
   "source": [
    "for num in range(0,6):\n",
    "    print(num**3)"
   ]
  },
  {
   "attachments": {},
   "cell_type": "markdown",
   "metadata": {},
   "source": [
    "5) Crear una variable que contenga un número entero y realizar un ciclo for la misma cantidad de ciclos"
   ]
  },
  {
   "cell_type": "code",
   "execution_count": null,
   "metadata": {},
   "outputs": [],
   "source": [
    "numero = 10\n",
    "for i in range(numero):\n",
    "    pass\n",
    "print(i)"
   ]
  },
  {
   "attachments": {},
   "cell_type": "markdown",
   "metadata": {},
   "source": [
    "6) Utilizar un ciclo while para realizar el factorial de un número guardado en una variable, sólo si la variable contiene un número entero mayor a 0"
   ]
  },
  {
   "cell_type": "code",
   "execution_count": null,
   "metadata": {},
   "outputs": [],
   "source": [
    "n = 3\n",
    "if type(n) == int:\n",
    "    if n>0:\n",
    "        factorial = 1\n",
    "        while (n > 1):\n",
    "            factorial *= n\n",
    "            n -= 1\n",
    "    else :\n",
    "        print('El numero no es mayor a Cero')\n",
    "else:\n",
    "    print('No es un numero entero')\n",
    "print(factorial)"
   ]
  },
  {
   "attachments": {},
   "cell_type": "markdown",
   "metadata": {},
   "source": [
    "7) Crear un ciclo for dentro de un ciclo while"
   ]
  },
  {
   "cell_type": "code",
   "execution_count": null,
   "metadata": {},
   "outputs": [],
   "source": [
    "n = 1\n",
    "while n < 5:\n",
    "    print(f'Ciclo del while nro: {str(n)}')\n",
    "    for i in range(1, n+1):\n",
    "        print(f'Ciclo del for nro: {str(i)}' )\n",
    "    n += 1"
   ]
  },
  {
   "attachments": {},
   "cell_type": "markdown",
   "metadata": {},
   "source": [
    "8) Crear un ciclo while dentro de un ciclo for"
   ]
  },
  {
   "cell_type": "code",
   "execution_count": null,
   "metadata": {},
   "outputs": [],
   "source": [
    "n = 5\n",
    "for i in range(1,n):\n",
    "    print(f'Ciclo del for nro: {str(i)}')\n",
    "    m = 1\n",
    "    while m <= i :\n",
    "        print(f'Ciclo de while nro: {str(m)}')\n",
    "        m += 1\n"
   ]
  },
  {
   "attachments": {},
   "cell_type": "markdown",
   "metadata": {},
   "source": [
    "9) Imprimir los números primos existentes entre 0 y 30"
   ]
  },
  {
   "cell_type": "code",
   "execution_count": null,
   "metadata": {},
   "outputs": [],
   "source": [
    "numero = 0\n",
    "while numero <= 30:\n",
    "    es_divisible = False\n",
    "    if numero > 3:\n",
    "        for i in range(2,numero):\n",
    "            if numero % i == 0:\n",
    "                es_divisible = True\n",
    "        if not es_divisible:\n",
    "            print(numero)\n",
    "    else :\n",
    "        print(numero)\n",
    "    numero += 1"
   ]
  },
  {
   "attachments": {},
   "cell_type": "markdown",
   "metadata": {},
   "source": [
    "10) ¿Se puede mejorar el proceso del punto 9? Utilizar las sentencias break y/ó continue para tal fin"
   ]
  },
  {
   "cell_type": "code",
   "execution_count": null,
   "metadata": {},
   "outputs": [],
   "source": [
    "numero = 0\n",
    "while numero <= 30:\n",
    "    if numero > 3:\n",
    "        for i in range(2,numero):\n",
    "            if numero % i == 0:\n",
    "                break\n",
    "        if numero % i != 0:\n",
    "           print(numero)\n",
    "    else :\n",
    "        print(numero)\n",
    "    numero += 1"
   ]
  },
  {
   "attachments": {},
   "cell_type": "markdown",
   "metadata": {},
   "source": [
    "11) En los puntos 9 y 10, se diseño un código que encuentra números primos y además se lo optimizó. ¿Es posible saber en qué medida se optimizó?"
   ]
  },
  {
   "cell_type": "code",
   "execution_count": null,
   "metadata": {},
   "outputs": [],
   "source": [
    "numero = 0\n",
    "ciclos_sin_break = 0\n",
    "while numero <= 30:\n",
    "    es_divisible = False\n",
    "    if numero > 3:\n",
    "        for i in range(2,numero):\n",
    "            ciclos_sin_break += 1\n",
    "            if numero % i == 0:\n",
    "                es_divisible = True\n",
    "        if not es_divisible:\n",
    "            print(numero)\n",
    "    else :\n",
    "        print(numero)\n",
    "    numero += 1\n",
    "print('Cantidad de ciclos: ' + str(ciclos_sin_break))"
   ]
  },
  {
   "cell_type": "code",
   "execution_count": null,
   "metadata": {},
   "outputs": [],
   "source": [
    "numero = 2\n",
    "ciclos_con_break = 0\n",
    "while numero <= 30:\n",
    "    if numero > 3:\n",
    "        for i in range(2,numero):\n",
    "            ciclos_con_break += 1\n",
    "            if numero % i == 0:\n",
    "                break\n",
    "        if numero % i != 0:\n",
    "           print(numero)\n",
    "    else :\n",
    "        print(numero)\n",
    "    numero += 1\n",
    "print('Cantidad de ciclos: ' + str(ciclos_con_break))\n",
    "print('Se optimizó a un ' + str(ciclos_con_break/ciclos_sin_break) + '% de ciclos aplicando break')"
   ]
  },
  {
   "attachments": {},
   "cell_type": "markdown",
   "metadata": {},
   "source": [
    "12) Aplicando continue, armar un ciclo while que solo imprima los valores divisibles por 12, dentro del rango de números de 100 a 300"
   ]
  },
  {
   "cell_type": "code",
   "execution_count": null,
   "metadata": {},
   "outputs": [],
   "source": [
    "numero = 99\n",
    "while numero <= 300:\n",
    "    numero += 1\n",
    "    if numero % 12 != 0:\n",
    "        continue\n",
    "    print(numero)"
   ]
  },
  {
   "attachments": {},
   "cell_type": "markdown",
   "metadata": {},
   "source": [
    "13) Utilizar la función **input()** que permite hacer ingresos por teclado, para encontrar números primos y dar la opción al usario de buscar el siguiente"
   ]
  },
  {
   "cell_type": "code",
   "execution_count": 2,
   "metadata": {},
   "outputs": [],
   "source": [
    "numero = 0\n",
    "seguir = True\n",
    "while seguir:\n",
    "    numero += 1\n",
    "    if numero > 3:\n",
    "        es_divisible = False\n",
    "        for d in range(2,numero):\n",
    "            if numero % d == 0:\n",
    "                es_divisible = True\n",
    "                break\n",
    "        if not es_divisible:\n",
    "            print(f'El numero {numero} es primo') \n",
    "        else:\n",
    "            print(f'El numero {numero} no es primo')             \n",
    "    elif numero == 1:\n",
    "        print('El numero 1 no se considera primo')\n",
    "    else :\n",
    "        print (f'El numero {numero} no se considera primo')\n",
    "    seguir = input('Tipee [S|N] para continuar buscando el siguiente numero primo :').upper() =='S'"
   ]
  },
  {
   "attachments": {},
   "cell_type": "markdown",
   "metadata": {},
   "source": [
    "14) Crear un ciclo while que encuentre dentro del rango de 100 a 300 el primer número divisible por 3 y además múltiplo de 6"
   ]
  },
  {
   "cell_type": "code",
   "execution_count": 5,
   "metadata": {},
   "outputs": [
    {
     "name": "stdout",
     "output_type": "stream",
     "text": [
      "El primer numero divisible por 3 es 102\n"
     ]
    }
   ],
   "source": [
    "numero = 100\n",
    "seguir = True\n",
    "while seguir:\n",
    "    es_multiplo6 = False\n",
    "    if numero % 6 == 0:\n",
    "            es_multiplo6 = True\n",
    "            seguir = False\n",
    "            break\n",
    "    numero += 1\n",
    "if es_multiplo6:\n",
    "    print (f'El primer numero divisible por 3 y multiplo de 6 es {numero}')"
   ]
  }
 ],
 "metadata": {
  "interpreter": {
   "hash": "c85384e4cb51c8b72350f3a8712cc8351fdc3955e32a27f9b60c6242ab125f01"
  },
  "kernelspec": {
   "display_name": "Python 3 (ipykernel)",
   "language": "python",
   "name": "python3"
  },
  "language_info": {
   "codemirror_mode": {
    "name": "ipython",
    "version": 3
   },
   "file_extension": ".py",
   "mimetype": "text/x-python",
   "name": "python",
   "nbconvert_exporter": "python",
   "pygments_lexer": "ipython3",
   "version": "3.12.1"
  }
 },
 "nbformat": 4,
 "nbformat_minor": 4
}
