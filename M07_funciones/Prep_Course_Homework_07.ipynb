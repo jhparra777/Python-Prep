{
 "cells": [
  {
   "attachments": {},
   "cell_type": "markdown",
   "metadata": {},
   "source": [
    "## Funciones"
   ]
  },
  {
   "attachments": {},
   "cell_type": "markdown",
   "metadata": {},
   "source": [
    "1) Crear una función que reciba un número como parámetro y devuelva True si es primo y False si no lo es"
   ]
  },
  {
   "cell_type": "code",
   "execution_count": null,
   "metadata": {},
   "outputs": [],
   "source": [
    "def esPrimo (x):\n",
    "    numero_primo = True # Iniciamos suponiendo que el numero puede ser primo\n",
    "    if x > 3:\n",
    "        for i in range(2,x):\n",
    "            if x % i == 0:\n",
    "                numero_primo = False\n",
    "                break\n",
    "    else:\n",
    "        numero_primo = True\n",
    "    return numero_primo\n",
    "\n",
    "print(esPrimo(15))"
   ]
  },
  {
   "attachments": {},
   "cell_type": "markdown",
   "metadata": {},
   "source": [
    "2) Utilizando la función del punto 1, realizar otra función que reciba de parámetro una lista de números y devuelva sólo aquellos que son primos en otra lista"
   ]
  },
  {
   "cell_type": "code",
   "execution_count": null,
   "metadata": {},
   "outputs": [],
   "source": [
    "def extraer (numeros):\n",
    "    primos = [elemento  for elemento in numeros if esPrimo(elemento)]\n",
    "    return primos\n",
    "\n",
    "numeros = [1,2,3,4,5,6,7,8,9,10,11,12,13,14,15,16,17,18,19,20]\n",
    "print(extraer(numeros))"
   ]
  },
  {
   "attachments": {},
   "cell_type": "markdown",
   "metadata": {},
   "source": [
    "3) Crear una función que al recibir una lista de números, devuelva el que más se repite y cuántas veces lo hace. Si hay más de un \"más repetido\", que devuelva cualquiera"
   ]
  },
  {
   "cell_type": "code",
   "execution_count": null,
   "metadata": {},
   "outputs": [],
   "source": [
    "def masRepetido(numeros):\n",
    "    cuantos = 0\n",
    "    el_numero = 0\n",
    "    for numero in numeros:\n",
    "        repite = numeros.count(numero)\n",
    "        if repite > cuantos:\n",
    "            cuantos = repite\n",
    "            el_numero = numero\n",
    "    print (f'El {el_numero} se repite {cuantos} veces')\n",
    "\n",
    "numeros = [1,1,3,4,5,6,6,6,6,10,11,12,12,13,1,16,17,18,19,20]\n",
    "masRepetido(numeros)\n",
    "                    "
   ]
  },
  {
   "cell_type": "code",
   "execution_count": null,
   "metadata": {},
   "outputs": [],
   "source": [
    "def masRepetido (numeros):\n",
    "    losNumeros = []\n",
    "    vecesRepetidas = []\n",
    "    for elemento in numeros:\n",
    "        repite = numeros.count(elemento)\n",
    "        if repite > 1 and elemento not in losNumeros:\n",
    "            losNumeros.append(elemento)\n",
    "            vecesRepetidas.append(repite)\n",
    "    mayor = 0\n",
    "    repite = 0\n",
    "    for indice, elemento in enumerate (vecesRepetidas):\n",
    "        if vecesRepetidas[indice] > repite:\n",
    "            mayor = losNumeros[indice]\n",
    "            repite = vecesRepetidas[indice]     \n",
    "\n",
    "    return mayor, repite\n",
    "\n",
    "numeros = [1,1,1,3,3,3,3,3,3,3,3,3,3,4,5,6,6,6,6,10,11,12,12,13,1,16,17,18,19,20,21,21,21,21,21]\n",
    "mayor, repite = masRepetido(numeros)\n",
    "print(f'El numero {mayor} se repite {repite} veces')"
   ]
  },
  {
   "attachments": {},
   "cell_type": "markdown",
   "metadata": {},
   "source": [
    "4) Crear una función que convierta entre grados Celsius, Farenheit y Kelvin<br>\n",
    "Fórmula 1\t: (°C × 9/5) + 32 = °F<br>\n",
    "Fórmula 2\t: °C + 273.15 = °K<br>\n",
    "Debe recibir 3 parámetros: el valor, la medida de orígen y la medida de destino\n"
   ]
  },
  {
   "cell_type": "code",
   "execution_count": null,
   "metadata": {},
   "outputs": [],
   "source": [
    "def convertir (valor, origen, destino):\n",
    "   if origen != destino:\n",
    "       if origen == 'C' and destino == 'F':\n",
    "           return (valor * 9/5) + 32\n",
    "       elif origen == 'C' and destino == 'K':\n",
    "           return (valor + 273.15)\n",
    "       elif origen == 'F' and destino == 'C':\n",
    "           return (valor - 32) * 5/9\n",
    "       elif origen == 'F' and destino == 'K':\n",
    "           return (valor - 32) * 5/9 + 273.15\n",
    "       elif origen == 'K' and destino == 'C':\n",
    "           return valor - 273.15\n",
    "       elif origen == 'K' and destino == 'F':\n",
    "           return (valor - 273.15) * 9/5 + 32\n",
    "   else :\n",
    "       return 'no hay conversion'\n",
    "       \n",
    "        \n",
    "print(convertir(10,'C','F'))\n",
    "print(convertir(10,'C','K'))\n",
    "print(convertir(10,'F','C'))\n",
    "print(convertir(10,'F','K'))\n",
    "print(convertir(10,'K','C'))\n",
    "print(convertir(10,'K','F'))\n",
    "print(convertir(100,'C','C'))\n",
    "print(convertir(100,'F','F'))\n",
    "print(convertir(100,'K','K'))\n",
    "    "
   ]
  },
  {
   "attachments": {},
   "cell_type": "markdown",
   "metadata": {},
   "source": [
    "5) Iterando una lista con los tres valores posibles de temperatura que recibe la función del punto 5, hacer un print para cada combinación de los mismos:"
   ]
  },
  {
   "cell_type": "code",
   "execution_count": null,
   "metadata": {},
   "outputs": [],
   "source": [
    "metricas = ['C','F','K']\n",
    "\n",
    "for m in metricas:\n",
    "    for j in metricas:\n",
    "        print(convertir(10,m,j))\n",
    "        \n",
    "    "
   ]
  },
  {
   "attachments": {},
   "cell_type": "markdown",
   "metadata": {},
   "source": [
    "6) Armar una función que devuelva el factorial de un número. Tener en cuenta que el usuario puede equivocarse y enviar de parámetro un número no entero o negativo"
   ]
  },
  {
   "cell_type": "code",
   "execution_count": 4,
   "metadata": {},
   "outputs": [
    {
     "name": "stdout",
     "output_type": "stream",
     "text": [
      "El factorial de 4 es 24\n"
     ]
    }
   ],
   "source": [
    "def factorial(n):\n",
    "    if n == 0 or n == 1:\n",
    "        return 1\n",
    "    else:\n",
    "        resultado = n * factorial(n - 1)\n",
    "        return resultado\n",
    "    \n",
    "num = input ('Introduzca un numero')\n",
    "\n",
    "if int(num) >= 0:\n",
    "    print(f'El factorial de {num} es {factorial(int(num))}') "
   ]
  },
  {
   "cell_type": "code",
   "execution_count": null,
   "metadata": {},
   "outputs": [],
   "source": []
  },
  {
   "cell_type": "code",
   "execution_count": null,
   "metadata": {},
   "outputs": [],
   "source": []
  }
 ],
 "metadata": {
  "interpreter": {
   "hash": "c85384e4cb51c8b72350f3a8712cc8351fdc3955e32a27f9b60c6242ab125f01"
  },
  "kernelspec": {
   "display_name": "Python 3 (ipykernel)",
   "language": "python",
   "name": "python3"
  },
  "language_info": {
   "codemirror_mode": {
    "name": "ipython",
    "version": 3
   },
   "file_extension": ".py",
   "mimetype": "text/x-python",
   "name": "python",
   "nbconvert_exporter": "python",
   "pygments_lexer": "ipython3",
   "version": "3.12.1"
  }
 },
 "nbformat": 4,
 "nbformat_minor": 4
}
