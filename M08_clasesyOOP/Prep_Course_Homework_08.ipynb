{
 "cells": [
  {
   "attachments": {},
   "cell_type": "markdown",
   "metadata": {},
   "source": [
    "## Clases y Programación Orientada a Objetos"
   ]
  },
  {
   "attachments": {},
   "cell_type": "markdown",
   "metadata": {},
   "source": [
    "1) Crear la clase vehículo que contenga los atributos:<br>\n",
    "Color<br>\n",
    "Si es moto, auto, camioneta ó camión<br>\n",
    "Cilindrada del motor"
   ]
  },
  {
   "cell_type": "code",
   "execution_count": 19,
   "metadata": {},
   "outputs": [],
   "source": [
    "class Vehiculo:\n",
    "    def __init__ (self, color, tipo, cilindrada):\n",
    "        self.color = color\n",
    "        self.tipo = tipo\n",
    "        self.cilindrada = cilindrada"
   ]
  },
  {
   "attachments": {},
   "cell_type": "markdown",
   "metadata": {},
   "source": [
    "2) A la clase Vehiculo creada en el punto 1, agregar los siguientes métodos:<br>\n",
    "Acelerar<br>\n",
    "Frenar<br>\n",
    "Doblar<br>"
   ]
  },
  {
   "cell_type": "code",
   "execution_count": 20,
   "metadata": {},
   "outputs": [],
   "source": [
    "class Vehiculo:\n",
    "    def __init__ (self, color, tipo, cilindrada):\n",
    "        self.color = color\n",
    "        self.tipo = tipo\n",
    "        self.cilindrada = cilindrada\n",
    "        self.velocidad = 0\n",
    "        self.direccion = 0\n",
    "\n",
    "    def Acelerar(self, velocidad):\n",
    "        self.velocidad += velocidad\n",
    "    def Frenar(self, velocidad):\n",
    "        self.velocidad -= velocidad\n",
    "    def Doblar(self, grados):\n",
    "        self.direccion += grados"
   ]
  },
  {
   "attachments": {},
   "cell_type": "markdown",
   "metadata": {},
   "source": [
    "3) Instanciar 3 objetos de la clase vehículo y ejecutar sus métodos, probar luego el resultado"
   ]
  },
  {
   "cell_type": "code",
   "execution_count": 22,
   "metadata": {},
   "outputs": [],
   "source": [
    "inst1 = Vehiculo('azul','auto','1400')\n",
    "inst2 = Vehiculo('negro','moto','3000')\n",
    "inst3 = Vehiculo('naranja','camion','1000')\n",
    "\n",
    "inst1.Acelerar(10)\n",
    "inst1.Frenar(5)\n",
    "inst1.Doblar(2)\n",
    "inst2.Acelerar(20)\n",
    "inst2.Frenar(5)\n",
    "inst2.Doblar(5)\n",
    "inst3.Acelerar(10)\n",
    "inst3.Frenar(5)\n",
    "inst3.Doblar(2)"
   ]
  },
  {
   "attachments": {},
   "cell_type": "markdown",
   "metadata": {},
   "source": [
    "4) Agregar a la clase Vehiculo, un método que muestre su estado, es decir, a que velocidad se encuentra y su dirección. Y otro método que muestre color, tipo y cilindrada"
   ]
  },
  {
   "cell_type": "code",
   "execution_count": null,
   "metadata": {},
   "outputs": [],
   "source": [
    "class Vehiculo:\n",
    "    def __init__ (self, color, tipo, cilindrada):\n",
    "        self.color = color\n",
    "        self.tipo = tipo\n",
    "        self.cilindrada = cilindrada\n",
    "        self.velocidad = 0\n",
    "        self.direccion = 0\n",
    "\n",
    "    def Acelerar(self, velocidad):\n",
    "        self.velocidad += velocidad\n",
    "\n",
    "    def Frenar(self, velocidad):\n",
    "        self.velocidad -= velocidad\n",
    "\n",
    "    def Doblar(self, grados):\n",
    "        self.direccion += grados\n",
    "\n",
    "    def Estado(self):\n",
    "        print(f'Velocidad : {self.velocidad} y dirección : {self.direccion}')\n",
    "        \n",
    "    def Mostrar(self):\n",
    "        print(f'Color : {self.color}, tipo : {self.tipo}  y cilindrada : {self.cilindrada}')"
   ]
  },
  {
   "attachments": {},
   "cell_type": "markdown",
   "metadata": {},
   "source": [
    "5) Crear una clase que permita utilizar las funciones creadas en la práctica del módulo 7<br>\n",
    "Verificar Primo<br>\n",
    "Valor modal<br>\n",
    "Conversión grados<br>\n",
    "Factorial<br>"
   ]
  },
  {
   "cell_type": "code",
   "execution_count": 72,
   "metadata": {},
   "outputs": [],
   "source": [
    "class Funciones:\n",
    "    \n",
    "    def __init__ (self) -> None:\n",
    "        pass\n",
    "\n",
    "    def esPrimo (self, x):\n",
    "        numero_primo = True # Iniciamos suponiendo que el numero puede ser primo\n",
    "        if x > 3:\n",
    "            for i in range(2,x):\n",
    "                if x % i == 0:\n",
    "                    numero_primo = False\n",
    "                    break\n",
    "        else:\n",
    "            numero_primo = True\n",
    "        return numero_primo\n",
    "    \n",
    "    def masRepetido (self, numeros):\n",
    "        losNumeros = []\n",
    "        vecesRepetidas = []\n",
    "        for elemento in numeros:\n",
    "            repite = numeros.count(elemento)\n",
    "            if repite > 1 and elemento not in losNumeros:\n",
    "                losNumeros.append(elemento)\n",
    "                vecesRepetidas.append(repite)\n",
    "        mayor = 0\n",
    "        repite = 0\n",
    "        for indice, elemento in enumerate (vecesRepetidas):\n",
    "            if vecesRepetidas[indice] > repite:\n",
    "                mayor = losNumeros[indice]\n",
    "                repite = vecesRepetidas[indice]     \n",
    "        return mayor, repite\n",
    "    \n",
    "    def convertir (self, valor, origen, destino):\n",
    "        if origen != destino:\n",
    "            if origen == 'C' and destino == 'F':\n",
    "                resultado = (valor * 9/5) + 32\n",
    "            elif origen == 'C' and destino == 'K':\n",
    "                resultado =  (valor + 273.15)\n",
    "            elif origen == 'F' and destino == 'C':\n",
    "                resultado =  (valor - 32) * 5/9\n",
    "            elif origen == 'F' and destino == 'K':\n",
    "                resultado =  (valor - 32) * 5/9 + 273.15\n",
    "            elif origen == 'K' and destino == 'C':\n",
    "                resultado =  valor - 273.15\n",
    "            elif origen == 'K' and destino == 'F':\n",
    "                resultado =  (valor - 273.15) * 9/5 + 32\n",
    "        else :\n",
    "            resultado =  'no hay conversion'\n",
    "        return resultado\n",
    "    \n",
    "    def factorial (self,numero):\n",
    "        if (type(numero) != int):\n",
    "            return 'El numero debe ser un entero'\n",
    "        else:\n",
    "            fact = 1\n",
    "            i = 1\n",
    "            while (i <= numero):\n",
    "                fact *= i\n",
    "                i = i + 1\n",
    "        return fact "
   ]
  },
  {
   "attachments": {},
   "cell_type": "markdown",
   "metadata": {},
   "source": [
    "6) Probar las funciones incorporadas en la clase del punto 5"
   ]
  },
  {
   "cell_type": "code",
   "execution_count": 74,
   "metadata": {},
   "outputs": [
    {
     "name": "stdout",
     "output_type": "stream",
     "text": [
      "-12.222222222222221\n"
     ]
    },
    {
     "data": {
      "text/plain": [
       "'El numero debe ser un entero'"
      ]
     },
     "execution_count": 74,
     "metadata": {},
     "output_type": "execute_result"
    }
   ],
   "source": [
    "f = Funciones()\n",
    "f.esPrimo(5)\n",
    "Numeros = [1,2,2,3,4,4,4,5]\n",
    "f.masRepetido(Numeros)\n",
    "print(f.convertir(10,'F','C'))\n",
    "f.factorial(5.5)"
   ]
  },
  {
   "attachments": {},
   "cell_type": "markdown",
   "metadata": {},
   "source": [
    "7) Es necesario que la clase creada en el punto 5 contenga una lista, sobre la cual se apliquen las funciones incorporadas"
   ]
  },
  {
   "cell_type": "code",
   "execution_count": 24,
   "metadata": {},
   "outputs": [],
   "source": [
    "class Funciones:\n",
    "    \n",
    "    def __init__(self, lista_numeros):\n",
    "        self.lista = lista_numeros\n",
    "\n",
    "    def esPrimo (self, x):\n",
    "        numero_primo = True # Iniciamos suponiendo que el numero puede ser primo\n",
    "        if x > 3:\n",
    "            for i in range(2,x):\n",
    "                if x % i == 0:\n",
    "                    numero_primo = False\n",
    "                    break\n",
    "        else:\n",
    "            numero_primo = True\n",
    "        return numero_primo\n",
    "    \n",
    "    def masRepetido (self, numeros):\n",
    "        losNumeros = []\n",
    "        vecesRepetidas = []\n",
    "        for elemento in numeros:\n",
    "            repite = numeros.count(elemento)\n",
    "            if repite > 1 and elemento not in losNumeros:\n",
    "                losNumeros.append(elemento)\n",
    "                vecesRepetidas.append(repite)\n",
    "        mayor = 0\n",
    "        repite = 0\n",
    "        for indice, elemento in enumerate (vecesRepetidas):\n",
    "            if vecesRepetidas[indice] > repite:\n",
    "                mayor = losNumeros[indice]\n",
    "                repite = vecesRepetidas[indice]     \n",
    "        return mayor, repite\n",
    "    \n",
    "    def convertir (self, valor, origen, destino):\n",
    "        if origen != destino:\n",
    "            if origen == 'C' and destino == 'F':\n",
    "                resultado = (valor * 9/5) + 32\n",
    "            elif origen == 'C' and destino == 'K':\n",
    "                resultado =  (valor + 273.15)\n",
    "            elif origen == 'F' and destino == 'C':\n",
    "                resultado =  (valor - 32) * 5/9\n",
    "            elif origen == 'F' and destino == 'K':\n",
    "                resultado =  (valor - 32) * 5/9 + 273.15\n",
    "            elif origen == 'K' and destino == 'C':\n",
    "                resultado =  valor - 273.15\n",
    "            elif origen == 'K' and destino == 'F':\n",
    "                resultado =  (valor - 273.15) * 9/5 + 32\n",
    "        else :\n",
    "            resultado =  'no hay conversion'\n",
    "        return resultado\n",
    "    \n",
    "    def factorial (self,numero):\n",
    "        if (type(numero) != int):\n",
    "            return 'El numero debe ser un entero'\n",
    "        else:\n",
    "            fact = 1\n",
    "            i = 1\n",
    "            while (i <= numero):\n",
    "                fact *= i\n",
    "                i = i + 1\n",
    "        return fact   "
   ]
  },
  {
   "attachments": {},
   "cell_type": "markdown",
   "metadata": {},
   "source": [
    "8) Crear un archivo .py aparte y ubicar allí la clase generada en el punto anterior. Luego realizar la importación del módulo y probar alguna de sus funciones"
   ]
  },
  {
   "cell_type": "code",
   "execution_count": 3,
   "metadata": {},
   "outputs": [
    {
     "data": {
      "text/plain": [
       "(2, 5)"
      ]
     },
     "execution_count": 3,
     "metadata": {},
     "output_type": "execute_result"
    }
   ],
   "source": [
    "from mis_herramientas import *\n",
    "\n",
    "instancia = Herramientas([])\n",
    "\n",
    "#instancia.factorial(4)\n",
    "\n",
    "#instancia.convertir(20,'F','C')\n",
    "\n",
    "instancia.masRepetido([1,1,2,2,2,2,2,3,4,5,6])"
   ]
  },
  {
   "cell_type": "code",
   "execution_count": null,
   "metadata": {},
   "outputs": [],
   "source": []
  }
 ],
 "metadata": {
  "interpreter": {
   "hash": "c85384e4cb51c8b72350f3a8712cc8351fdc3955e32a27f9b60c6242ab125f01"
  },
  "kernelspec": {
   "display_name": "Python 3 (ipykernel)",
   "language": "python",
   "name": "python3"
  },
  "language_info": {
   "codemirror_mode": {
    "name": "ipython",
    "version": 3
   },
   "file_extension": ".py",
   "mimetype": "text/x-python",
   "name": "python",
   "nbconvert_exporter": "python",
   "pygments_lexer": "ipython3",
   "version": "3.12.1"
  }
 },
 "nbformat": 4,
 "nbformat_minor": 4
}
