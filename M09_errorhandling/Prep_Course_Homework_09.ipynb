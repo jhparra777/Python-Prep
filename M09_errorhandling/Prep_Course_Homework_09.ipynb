{
 "cells": [
  {
   "attachments": {},
   "cell_type": "markdown",
   "metadata": {},
   "source": [
    "## Manejo de errores"
   ]
  },
  {
   "attachments": {},
   "cell_type": "markdown",
   "metadata": {},
   "source": [
    "1) Con la clase creada en el módulo 7, tener en cuenta diferentes casos en que el código pudiera arrojar error. Por ejemplo, en la creación del objeto recibimos una lista de números enteros pero ¿qué pasa si se envía otro tipo de dato?"
   ]
  },
  {
   "cell_type": "code",
   "execution_count": 1,
   "metadata": {},
   "outputs": [
    {
     "ename": "ValueError",
     "evalue": "Error debe ingrasar una lista núemeros enteros",
     "output_type": "error",
     "traceback": [
      "\u001b[1;31m---------------------------------------------------------------------------\u001b[0m",
      "\u001b[1;31mValueError\u001b[0m                                Traceback (most recent call last)",
      "Cell \u001b[1;32mIn[1], line 3\u001b[0m\n\u001b[0;32m      1\u001b[0m \u001b[38;5;28;01mimport\u001b[39;00m \u001b[38;5;21;01mmis_herramientas\u001b[39;00m \u001b[38;5;28;01mas\u001b[39;00m \u001b[38;5;21;01mh\u001b[39;00m\n\u001b[1;32m----> 3\u001b[0m instancia \u001b[38;5;241m=\u001b[39m \u001b[43mh\u001b[49m\u001b[38;5;241;43m.\u001b[39;49m\u001b[43mHerramientas\u001b[49m\u001b[43m(\u001b[49m\u001b[38;5;124;43m'\u001b[39;49m\u001b[38;5;124;43mHola\u001b[39;49m\u001b[38;5;124;43m'\u001b[39;49m\u001b[43m)\u001b[49m\n",
      "File \u001b[1;32mc:\\Users\\Jesus\\Documents\\DataScience\\Python-Prep\\M09_errorhandling\\mis_herramientas.py:6\u001b[0m, in \u001b[0;36mHerramientas.__init__\u001b[1;34m(self, lista_numeros)\u001b[0m\n\u001b[0;32m      4\u001b[0m \u001b[38;5;28;01mif\u001b[39;00m \u001b[38;5;28mtype\u001b[39m(lista_numeros) \u001b[38;5;241m!=\u001b[39m \u001b[38;5;28mlist\u001b[39m:\n\u001b[0;32m      5\u001b[0m     \u001b[38;5;28mself\u001b[39m\u001b[38;5;241m.\u001b[39mlista \u001b[38;5;241m=\u001b[39m []\n\u001b[1;32m----> 6\u001b[0m     \u001b[38;5;28;01mraise\u001b[39;00m \u001b[38;5;167;01mValueError\u001b[39;00m(\u001b[38;5;124m'\u001b[39m\u001b[38;5;124mError debe ingrasar una lista núemeros enteros\u001b[39m\u001b[38;5;124m'\u001b[39m)  \n\u001b[0;32m      7\u001b[0m \u001b[38;5;28;01melse\u001b[39;00m :\n\u001b[0;32m      8\u001b[0m     \u001b[38;5;28mself\u001b[39m\u001b[38;5;241m.\u001b[39mlista \u001b[38;5;241m=\u001b[39m lista_numeros\n",
      "\u001b[1;31mValueError\u001b[0m: Error debe ingrasar una lista núemeros enteros"
     ]
    }
   ],
   "source": [
    "import mis_herramientas as h\n",
    "\n",
    "instancia = h.Herramientas('Hola')"
   ]
  },
  {
   "attachments": {},
   "cell_type": "markdown",
   "metadata": {},
   "source": [
    "2) En la función que hace la conversión de grados, validar que los parámetros enviados sean los esperados, de no serlo, informar cuáles son los valores esperados."
   ]
  },
  {
   "cell_type": "code",
   "execution_count": 7,
   "metadata": {},
   "outputs": [
    {
     "ename": "Exception",
     "evalue": "Hay un error, se espera \"C\", \"F\" o \"K\"",
     "output_type": "error",
     "traceback": [
      "\u001b[1;31m---------------------------------------------------------------------------\u001b[0m",
      "\u001b[1;31mException\u001b[0m                                 Traceback (most recent call last)",
      "Cell \u001b[1;32mIn[7], line 7\u001b[0m\n\u001b[0;32m      3\u001b[0m instancia \u001b[38;5;241m=\u001b[39m Herramientas([])\n\u001b[0;32m      5\u001b[0m \u001b[38;5;66;03m#instancia.factorial(4)\u001b[39;00m\n\u001b[1;32m----> 7\u001b[0m \u001b[43minstancia\u001b[49m\u001b[38;5;241;43m.\u001b[39;49m\u001b[43mconvertir\u001b[49m\u001b[43m(\u001b[49m\u001b[38;5;241;43m20\u001b[39;49m\u001b[43m,\u001b[49m\u001b[38;5;124;43m'\u001b[39;49m\u001b[38;5;124;43mF\u001b[39;49m\u001b[38;5;124;43m'\u001b[39;49m\u001b[43m,\u001b[49m\u001b[38;5;124;43m'\u001b[39;49m\u001b[38;5;124;43mQ\u001b[39;49m\u001b[38;5;124;43m'\u001b[39;49m\u001b[43m)\u001b[49m\n\u001b[0;32m      9\u001b[0m \u001b[38;5;66;03m#instancia.masRepetido([1,1,2,2,2,2,2,3,4,5,6])\u001b[39;00m\n",
      "File \u001b[1;32mc:\\Users\\Jesus\\Documents\\DataScience\\Python-Prep\\M09_errorhandling\\mis_herramientas.py:48\u001b[0m, in \u001b[0;36mHerramientas.convertir\u001b[1;34m(self, valor, origen, destino)\u001b[0m\n\u001b[0;32m     46\u001b[0m     datos_correctos \u001b[38;5;241m=\u001b[39m \u001b[38;5;28;01mTrue\u001b[39;00m\n\u001b[0;32m     47\u001b[0m \u001b[38;5;28;01melse\u001b[39;00m: \n\u001b[1;32m---> 48\u001b[0m     \u001b[38;5;28;01mraise\u001b[39;00m \u001b[38;5;167;01mException\u001b[39;00m (\u001b[38;5;124m'\u001b[39m\u001b[38;5;124mHay un error, se espera \u001b[39m\u001b[38;5;124m\"\u001b[39m\u001b[38;5;124mC\u001b[39m\u001b[38;5;124m\"\u001b[39m\u001b[38;5;124m, \u001b[39m\u001b[38;5;124m\"\u001b[39m\u001b[38;5;124mF\u001b[39m\u001b[38;5;124m\"\u001b[39m\u001b[38;5;124m o \u001b[39m\u001b[38;5;124m\"\u001b[39m\u001b[38;5;124mK\u001b[39m\u001b[38;5;124m\"\u001b[39m\u001b[38;5;124m'\u001b[39m)\n\u001b[0;32m     50\u001b[0m \u001b[38;5;28;01mif\u001b[39;00m origen \u001b[38;5;241m!=\u001b[39m destino \u001b[38;5;129;01mand\u001b[39;00m datos_correctos:\n\u001b[0;32m     51\u001b[0m     \u001b[38;5;28;01mif\u001b[39;00m origen \u001b[38;5;241m==\u001b[39m \u001b[38;5;124m'\u001b[39m\u001b[38;5;124mC\u001b[39m\u001b[38;5;124m'\u001b[39m \u001b[38;5;129;01mand\u001b[39;00m destino \u001b[38;5;241m==\u001b[39m \u001b[38;5;124m'\u001b[39m\u001b[38;5;124mF\u001b[39m\u001b[38;5;124m'\u001b[39m:\n",
      "\u001b[1;31mException\u001b[0m: Hay un error, se espera \"C\", \"F\" o \"K\""
     ]
    }
   ],
   "source": [
    "from mis_herramientas import *\n",
    "\n",
    "instancia = Herramientas([])\n",
    "\n",
    "#instancia.factorial(4)\n",
    "\n",
    "instancia.convertir(20,'F','Q')\n",
    "\n",
    "#instancia.masRepetido([1,1,2,2,2,2,2,3,4,5,6])"
   ]
  },
  {
   "attachments": {},
   "cell_type": "markdown",
   "metadata": {},
   "source": [
    "3) Importar el modulo \"unittest\" y crear los siguientes casos de pruebas sobre la clase utilizada en el punto 2<br>\n",
    "Creacion del objeto incorrecta<br>\n",
    "Creacion correcta del objeto<br>\n",
    "Metodo valor_modal()<br>\n",
    "\n",
    "Se puede usar \"raise ValueError()\" en la creación de la clase para verificar el error. Investigar sobre esta funcionalidad."
   ]
  },
  {
   "cell_type": "code",
   "execution_count": 5,
   "metadata": {},
   "outputs": [
    {
     "name": "stderr",
     "output_type": "stream",
     "text": [
      "testCreacionLista (__main__.PruebaMisHerramientas.testCreacionLista) ... ok\n",
      "testCreacionListaMal (__main__.PruebaMisHerramientas.testCreacionListaMal) ... ERROR\n",
      "testModa (__main__.PruebaMisHerramientas.testModa) ... ok\n",
      "testSuma (__main__.PruebaMisHerramientas.testSuma) ... ok\n",
      "\n",
      "======================================================================\n",
      "ERROR: testCreacionListaMal (__main__.PruebaMisHerramientas.testCreacionListaMal)\n",
      "----------------------------------------------------------------------\n",
      "Traceback (most recent call last):\n",
      "  File \"C:\\Users\\Jesus\\AppData\\Local\\Temp\\ipykernel_1032\\2935140239.py\", line 19, in testCreacionListaMal\n",
      "    i = Herramientas(parametro)\n",
      "        ^^^^^^^^^^^^^^^^^^^^^^^\n",
      "  File \"c:\\Users\\Jesus\\Documents\\DataScience\\Python-Prep\\M09_errorhandling\\mis_herramientas.py\", line 6, in __init__\n",
      "    raise ValueError('Error debe ingrasar una lista núemeros enteros')\n",
      "ValueError: Error debe ingrasar una lista núemeros enteros\n",
      "\n",
      "----------------------------------------------------------------------\n",
      "Ran 4 tests in 0.017s\n",
      "\n",
      "FAILED (errors=1)\n"
     ]
    },
    {
     "ename": "NameError",
     "evalue": "name 'testSuma' is not defined",
     "output_type": "error",
     "traceback": [
      "\u001b[1;31m---------------------------------------------------------------------------\u001b[0m",
      "\u001b[1;31mNameError\u001b[0m                                 Traceback (most recent call last)",
      "Cell \u001b[1;32mIn[5], line 41\u001b[0m\n\u001b[0;32m     38\u001b[0m         \u001b[38;5;28mself\u001b[39m\u001b[38;5;241m.\u001b[39massertEqual(resultado, esperado)\n\u001b[0;32m     40\u001b[0m unittest\u001b[38;5;241m.\u001b[39mmain(argv\u001b[38;5;241m=\u001b[39m[\u001b[38;5;124m\"\u001b[39m\u001b[38;5;124m\"\u001b[39m], verbosity\u001b[38;5;241m=\u001b[39m\u001b[38;5;241m2\u001b[39m, exit\u001b[38;5;241m=\u001b[39m\u001b[38;5;28;01mFalse\u001b[39;00m)\n\u001b[1;32m---> 41\u001b[0m \u001b[43mtestSuma\u001b[49m(__main__\u001b[38;5;241m.\u001b[39mPruebaMisHerramientas)\n\u001b[0;32m     42\u001b[0m testCreacionLista(__main__\u001b[38;5;241m.\u001b[39mPruebaMisHerramientas)\n\u001b[0;32m     43\u001b[0m testCreacionListaMal(__main__\u001b[38;5;241m.\u001b[39mPruebaMisHerramientas)\n",
      "\u001b[1;31mNameError\u001b[0m: name 'testSuma' is not defined"
     ]
    }
   ],
   "source": [
    "from mis_herramientas import *\n",
    "import unittest\n",
    "\n",
    "def suma (a,b):\n",
    "    return a + b\n",
    "\n",
    "class PruebaMisHerramientas(unittest.TestCase):\n",
    "\n",
    "    def testCreacionLista(self):\n",
    "        parametro = [1,2,3]\n",
    "\n",
    "        i = Herramientas(parametro)\n",
    "\n",
    "        self.assertEqual(i,i)\n",
    "\n",
    "    def testCreacionListaMal(self):\n",
    "            parametro = 'Hola'\n",
    "\n",
    "            i = Herramientas(parametro)\n",
    "\n",
    "            self.assertEqual(i,i)\n",
    "\n",
    "    def testSuma (self):\n",
    "        a = 2\n",
    "        b = 3\n",
    "        resultado = a + b\n",
    "        self.assertEqual(resultado, 5)\n",
    "\n",
    "    def testModa(self):\n",
    "        parametro = [1,1,1,1,2,2,2,3]\n",
    "\n",
    "        esperado = (1,4)\n",
    "        \n",
    "        i = Herramientas(parametro)\n",
    "\n",
    "        resultado = i.masRepetido(parametro)\n",
    "        \n",
    "        self.assertEqual(resultado, esperado)\n",
    "\n",
    "unittest.main(argv=[\"\"], verbosity=2, exit=False)\n",
    "testSuma(__main__.PruebaMisHerramientas)\n",
    "testCreacionLista(__main__.PruebaMisHerramientas)\n",
    "testCreacionListaMal(__main__.PruebaMisHerramientas)\n",
    "testModa(__main__.PruebaMisHerramientas)\n"
   ]
  },
  {
   "attachments": {},
   "cell_type": "markdown",
   "metadata": {},
   "source": [
    "4) Probar una creación incorrecta y visualizar la salida del \"raise\""
   ]
  },
  {
   "cell_type": "code",
   "execution_count": 9,
   "metadata": {},
   "outputs": [
    {
     "ename": "ValueError",
     "evalue": "Error debe ingrasar una lista núemeros enteros",
     "output_type": "error",
     "traceback": [
      "\u001b[1;31m---------------------------------------------------------------------------\u001b[0m",
      "\u001b[1;31mValueError\u001b[0m                                Traceback (most recent call last)",
      "Cell \u001b[1;32mIn[9], line 3\u001b[0m\n\u001b[0;32m      1\u001b[0m \u001b[38;5;28;01mfrom\u001b[39;00m \u001b[38;5;21;01mmis_herramientas\u001b[39;00m \u001b[38;5;28;01mimport\u001b[39;00m \u001b[38;5;241m*\u001b[39m\n\u001b[1;32m----> 3\u001b[0m i2 \u001b[38;5;241m=\u001b[39m \u001b[43mHerramientas\u001b[49m\u001b[43m(\u001b[49m\u001b[38;5;124;43m'\u001b[39;49m\u001b[38;5;124;43malgo\u001b[39;49m\u001b[38;5;124;43m'\u001b[39;49m\u001b[43m)\u001b[49m\n",
      "File \u001b[1;32mc:\\Users\\Jesus\\Documents\\DataScience\\Python-Prep\\M09_errorhandling\\mis_herramientas.py:6\u001b[0m, in \u001b[0;36mHerramientas.__init__\u001b[1;34m(self, lista_numeros)\u001b[0m\n\u001b[0;32m      4\u001b[0m \u001b[38;5;28;01mif\u001b[39;00m \u001b[38;5;28mtype\u001b[39m(lista_numeros) \u001b[38;5;241m!=\u001b[39m \u001b[38;5;28mlist\u001b[39m:\n\u001b[0;32m      5\u001b[0m     \u001b[38;5;28mself\u001b[39m\u001b[38;5;241m.\u001b[39mlista \u001b[38;5;241m=\u001b[39m []\n\u001b[1;32m----> 6\u001b[0m     \u001b[38;5;28;01mraise\u001b[39;00m \u001b[38;5;167;01mValueError\u001b[39;00m(\u001b[38;5;124m'\u001b[39m\u001b[38;5;124mError debe ingrasar una lista núemeros enteros\u001b[39m\u001b[38;5;124m'\u001b[39m)  \n\u001b[0;32m      7\u001b[0m \u001b[38;5;28;01melse\u001b[39;00m :\n\u001b[0;32m      8\u001b[0m     \u001b[38;5;28mself\u001b[39m\u001b[38;5;241m.\u001b[39mlista \u001b[38;5;241m=\u001b[39m lista_numeros\n",
      "\u001b[1;31mValueError\u001b[0m: Error debe ingrasar una lista núemeros enteros"
     ]
    }
   ],
   "source": [
    "from mis_herramientas import *\n",
    "\n",
    "i2 = Herramientas('algo')"
   ]
  },
  {
   "attachments": {},
   "cell_type": "markdown",
   "metadata": {},
   "source": [
    "6) Agregar casos de pruebas para el método verifica_primos() realizando el cambio en la clase, para que devuelva una lista de True o False en función de que el elemento en la posisicón sea o no primo"
   ]
  },
  {
   "cell_type": "code",
   "execution_count": 4,
   "metadata": {},
   "outputs": [
    {
     "name": "stderr",
     "output_type": "stream",
     "text": [
      "testNumerosPrimos (__main__.ProbandoMiClase.testNumerosPrimos) ... ok\n",
      "\n",
      "----------------------------------------------------------------------\n",
      "Ran 1 test in 0.003s\n",
      "\n",
      "OK\n"
     ]
    },
    {
     "ename": "NameError",
     "evalue": "name 'testNumerosPrimos' is not defined",
     "output_type": "error",
     "traceback": [
      "\u001b[1;31m---------------------------------------------------------------------------\u001b[0m",
      "\u001b[1;31mNameError\u001b[0m                                 Traceback (most recent call last)",
      "Cell \u001b[1;32mIn[4], line 19\u001b[0m\n\u001b[0;32m     16\u001b[0m         \u001b[38;5;28mself\u001b[39m\u001b[38;5;241m.\u001b[39massertEqual(listaPrimos,resultadoEsperado)\n\u001b[0;32m     18\u001b[0m unittest\u001b[38;5;241m.\u001b[39mmain(argv\u001b[38;5;241m=\u001b[39m[\u001b[38;5;124m'\u001b[39m\u001b[38;5;124m'\u001b[39m], verbosity\u001b[38;5;241m=\u001b[39m\u001b[38;5;241m2\u001b[39m, exit\u001b[38;5;241m=\u001b[39m\u001b[38;5;28;01mFalse\u001b[39;00m)\n\u001b[1;32m---> 19\u001b[0m \u001b[43mtestNumerosPrimos\u001b[49m(__main__\u001b[38;5;241m.\u001b[39mProbandoMiClase)\n",
      "\u001b[1;31mNameError\u001b[0m: name 'testNumerosPrimos' is not defined"
     ]
    }
   ],
   "source": [
    "import unittest\n",
    "from mis_herramientas import *\n",
    "\n",
    "lista = [3,6,7,9]\n",
    "i3 = Herramientas(lista)\n",
    "i3.esPrimo(3)\n",
    "\n",
    "class ProbandoMiClase(unittest.TestCase):\n",
    "\n",
    "    def testNumerosPrimos(self):\n",
    "        listaPrimos = []\n",
    "        i4 = Herramientas(lista)\n",
    "        for i in lista:\n",
    "            listaPrimos.append(i4.esPrimo(i))\n",
    "        resultadoEsperado = [True,False,True,False]\n",
    "        self.assertEqual(listaPrimos,resultadoEsperado)\n",
    "\n",
    "unittest.main(argv=[''], verbosity=2, exit=False)\n",
    "testNumerosPrimos(__main__.ProbandoMiClase)\n",
    "\n",
    "\n",
    "\n"
   ]
  },
  {
   "attachments": {},
   "cell_type": "markdown",
   "metadata": {},
   "source": [
    "7) Agregar casos de pruebas para el método conversion_grados()"
   ]
  },
  {
   "cell_type": "code",
   "execution_count": 9,
   "metadata": {},
   "outputs": [
    {
     "name": "stderr",
     "output_type": "stream",
     "text": [
      "testNumerosPrimos (__main__.ProbandoMiClase.testNumerosPrimos) ... ok\n",
      "testConvertir (__main__.PruebaMiClase.testConvertir) ... ok\n",
      "\n",
      "----------------------------------------------------------------------\n",
      "Ran 2 tests in 0.006s\n",
      "\n",
      "OK\n"
     ]
    },
    {
     "ename": "NameError",
     "evalue": "name 'testConvertir' is not defined",
     "output_type": "error",
     "traceback": [
      "\u001b[1;31m---------------------------------------------------------------------------\u001b[0m",
      "\u001b[1;31mNameError\u001b[0m                                 Traceback (most recent call last)",
      "Cell \u001b[1;32mIn[9], line 16\u001b[0m\n\u001b[0;32m     12\u001b[0m           \u001b[38;5;28mself\u001b[39m\u001b[38;5;241m.\u001b[39massertEqual(resultado, \u001b[38;5;241m-\u001b[39m\u001b[38;5;241m12.222222222222221\u001b[39m)\n\u001b[0;32m     15\u001b[0m unittest\u001b[38;5;241m.\u001b[39mmain(argv\u001b[38;5;241m=\u001b[39m[\u001b[38;5;124m'\u001b[39m\u001b[38;5;124m'\u001b[39m], verbosity\u001b[38;5;241m=\u001b[39m\u001b[38;5;241m2\u001b[39m, exit\u001b[38;5;241m=\u001b[39m\u001b[38;5;28;01mFalse\u001b[39;00m)\n\u001b[1;32m---> 16\u001b[0m \u001b[43mtestConvertir\u001b[49m(__main__\u001b[38;5;241m.\u001b[39mProbandoMiClase)\n",
      "\u001b[1;31mNameError\u001b[0m: name 'testConvertir' is not defined"
     ]
    }
   ],
   "source": [
    "import unittest\n",
    "from mis_herramientas import *\n",
    "\n",
    "\n",
    "\n",
    "class PruebaMiClase(unittest.TestCase):\n",
    "\n",
    "    def testConvertir(self):\n",
    "          lista = [3,6,7,9]\n",
    "          i3 = Herramientas(lista)\n",
    "          resultado = i3.convertir(10,'F','C')\n",
    "          self.assertEqual(resultado, -12.222222222222221)\n",
    "\n",
    "          \n",
    "unittest.main(argv=[''], verbosity=2, exit=False)\n",
    "testConvertir(__main__.ProbandoMiClase)\n"
   ]
  },
  {
   "attachments": {},
   "cell_type": "markdown",
   "metadata": {},
   "source": [
    "8) Agregar casos de pruebas para el método factorial()"
   ]
  },
  {
   "cell_type": "code",
   "execution_count": 10,
   "metadata": {},
   "outputs": [
    {
     "name": "stderr",
     "output_type": "stream",
     "text": [
      "testNumerosPrimos (__main__.ProbandoMiClase.testNumerosPrimos) ... ok\n",
      "testConvertir (__main__.PruebaMiClase.testConvertir) ... ok\n",
      "testFactorial (__main__.PruebaMiClaseFactorial.testFactorial) ... ok\n",
      "\n",
      "----------------------------------------------------------------------\n",
      "Ran 3 tests in 0.009s\n",
      "\n",
      "OK\n"
     ]
    },
    {
     "ename": "NameError",
     "evalue": "name 'testFactorial' is not defined",
     "output_type": "error",
     "traceback": [
      "\u001b[1;31m---------------------------------------------------------------------------\u001b[0m",
      "\u001b[1;31mNameError\u001b[0m                                 Traceback (most recent call last)",
      "Cell \u001b[1;32mIn[10], line 15\u001b[0m\n\u001b[0;32m     11\u001b[0m         \u001b[38;5;28mself\u001b[39m\u001b[38;5;241m.\u001b[39massertEqual(resultado,\u001b[38;5;241m6\u001b[39m)\n\u001b[0;32m     14\u001b[0m unittest\u001b[38;5;241m.\u001b[39mmain(argv\u001b[38;5;241m=\u001b[39m[\u001b[38;5;124m'\u001b[39m\u001b[38;5;124m'\u001b[39m], verbosity\u001b[38;5;241m=\u001b[39m\u001b[38;5;241m2\u001b[39m, exit\u001b[38;5;241m=\u001b[39m\u001b[38;5;28;01mFalse\u001b[39;00m)\n\u001b[1;32m---> 15\u001b[0m \u001b[43mtestFactorial\u001b[49m(__main__\u001b[38;5;241m.\u001b[39mPruebaMiClaseFactorial)\n",
      "\u001b[1;31mNameError\u001b[0m: name 'testFactorial' is not defined"
     ]
    }
   ],
   "source": [
    "import unittest\n",
    "from mis_herramientas import *\n",
    "\n",
    "class PruebaMiClaseFactorial(unittest.TestCase):\n",
    "\n",
    "    def testFactorial(self):\n",
    "        numero = 3\n",
    "        h1 = Herramientas([])\n",
    "        resultado = h1.factorial(numero)\n",
    "\n",
    "        self.assertEqual(resultado,6)\n",
    "\n",
    "\n",
    "unittest.main(argv=[''], verbosity=2, exit=False)\n",
    "testFactorial(__main__.PruebaMiClaseFactorial)"
   ]
  },
  {
   "cell_type": "code",
   "execution_count": null,
   "metadata": {},
   "outputs": [],
   "source": []
  }
 ],
 "metadata": {
  "interpreter": {
   "hash": "c85384e4cb51c8b72350f3a8712cc8351fdc3955e32a27f9b60c6242ab125f01"
  },
  "kernelspec": {
   "display_name": "Python 3 (ipykernel)",
   "language": "python",
   "name": "python3"
  },
  "language_info": {
   "codemirror_mode": {
    "name": "ipython",
    "version": 3
   },
   "file_extension": ".py",
   "mimetype": "text/x-python",
   "name": "python",
   "nbconvert_exporter": "python",
   "pygments_lexer": "ipython3",
   "version": "3.12.1"
  }
 },
 "nbformat": 4,
 "nbformat_minor": 4
}
